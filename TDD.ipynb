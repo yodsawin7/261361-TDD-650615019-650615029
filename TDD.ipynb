{
 "cells": [
  {
   "cell_type": "markdown",
   "metadata": {},
   "source": [
    "Step 1: Fisrt We start by generating a diamond with 'A' at the widest point."
   ]
  },
  {
   "cell_type": "code",
   "execution_count": null,
   "metadata": {},
   "outputs": [],
   "source": [
    "def test_diamond_A():\n",
    "    expected_output = \"A\\n\"\n",
    "    assert print_diamond('A') == expected_output, \"Test failed for input 'A'\"\n",
    "\n",
    "def print_diamond(letter):\n",
    "    return \"A\\n\"\n",
    "\n",
    "# Run the test\n",
    "test_diamond_A()\n"
   ]
  },
  {
   "cell_type": "markdown",
   "metadata": {},
   "source": [
    "Step 2: Testing the code.\n",
    "The function print_diamond already returns the correct output for 'A'"
   ]
  },
  {
   "cell_type": "markdown",
   "metadata": {},
   "source": [
    "Step 3: We try to write a test for generating a diamond with 'B' at the widest point."
   ]
  },
  {
   "cell_type": "code",
   "execution_count": null,
   "metadata": {},
   "outputs": [],
   "source": [
    "def test_diamond_B():\n",
    "    expected_output = \" A \\nB B\\n A \\n\"\n",
    "    assert print_diamond('B') == expected_output, \"Test failed for input 'B'\"\n",
    "\n",
    "def print_diamond(letter):\n",
    "    if letter == 'A':\n",
    "        return \"A\\n\"\n",
    "    elif letter == 'B':\n",
    "        return \" A \\nB B\\n A \\n\"\n",
    "\n",
    "# Run the tests\n",
    "test_diamond_A()\n",
    "test_diamond_B()"
   ]
  },
  {
   "cell_type": "markdown",
   "metadata": {},
   "source": [
    "Step 4: Testing the code\n",
    "The function is updated to return the correct diamond pattern for 'B'. "
   ]
  },
  {
   "cell_type": "markdown",
   "metadata": {},
   "source": [
    "Step 5: Now, We try to write a test for generating a diamond with 'C' at the widest point."
   ]
  },
  {
   "cell_type": "code",
   "execution_count": null,
   "metadata": {},
   "outputs": [],
   "source": [
    "def test_diamond_C():\n",
    "    expected_output = \"  A  \\n B B \\nC   C\\n B B \\n  A  \\n\"\n",
    "    assert print_diamond('C') == expected_output, \"Test failed for input 'C'\"\n",
    "\n",
    "def print_diamond(letter):\n",
    "    size = ord(letter) - ord('A') + 1\n",
    "    diamond = []\n",
    "\n",
    "    for i in range(size):\n",
    "        row = [' '] * (2 * size - 1)\n",
    "        row[size - i - 1] = chr(ord('A') + i)\n",
    "        row[size + i - 1] = chr(ord('A') + i)\n",
    "        diamond.append(''.join(row))\n",
    "\n",
    "    diamond += diamond[-2::-1]\n",
    "    \n",
    "    return '\\n'.join(diamond) + '\\n'\n",
    "\n",
    "# Run the tests\n",
    "test_diamond_A()\n",
    "test_diamond_B()\n",
    "test_diamond_C()\n"
   ]
  },
  {
   "cell_type": "markdown",
   "metadata": {},
   "source": [
    "Step 6: Refactor and Finalize\n",
    "Since the print_diamond function now handles any letter from 'A' to 'C', let's finalize it and add input handling."
   ]
  },
  {
   "cell_type": "code",
   "execution_count": null,
   "metadata": {},
   "outputs": [],
   "source": [
    "def print_diamond(letter):\n",
    "    size = ord(letter) - ord('A') + 1\n",
    "    diamond = []\n",
    "\n",
    "    for i in range(size):\n",
    "        row = [' '] * (2 * size - 1)\n",
    "        row[size - i - 1] = chr(ord('A') + i)\n",
    "        row[size + i - 1] = chr(ord('A') + i)\n",
    "        diamond.append(''.join(row))\n",
    "\n",
    "    diamond += diamond[-2::-1]\n",
    "    \n",
    "    return '\\n'.join(diamond) + '\\n'\n",
    "\n",
    "def test_diamond_A():\n",
    "    expected_output = \"A\\n\"\n",
    "    assert print_diamond('A') == expected_output, \"Test failed for input 'A'\"\n",
    "\n",
    "def test_diamond_B():\n",
    "    expected_output = \" A \\nB B\\n A \\n\"\n",
    "    assert print_diamond('B') == expected_output, \"Test failed for input 'B'\"\n",
    "\n",
    "def test_diamond_C():\n",
    "    expected_output = \"  A  \\n B B \\nC   C\\n B B \\n  A  \\n\"\n",
    "    assert print_diamond('C') == expected_output, \"Test failed for input 'C'\"\n",
    "\n",
    "def run_tests():\n",
    "    test_diamond_A()\n",
    "    test_diamond_B()\n",
    "    test_diamond_C()\n",
    "    print(\"All tests passed!\")\n",
    "\n",
    "# Run the tests\n",
    "run_tests()\n",
    "\n",
    "# Interactive part for user input\n",
    "user_input = input(\"Insert character: \").upper()\n",
    "\n",
    "if 'A' <= user_input <= 'Z':\n",
    "    print(print_diamond(user_input))\n",
    "else:\n",
    "    print(\"Please enter a valid letter from A to Z.\")\n"
   ]
  }
 ],
 "metadata": {
  "kernelspec": {
   "display_name": "Python 3",
   "language": "python",
   "name": "python3"
  },
  "language_info": {
   "codemirror_mode": {
    "name": "ipython",
    "version": 3
   },
   "file_extension": ".py",
   "mimetype": "text/x-python",
   "name": "python",
   "nbconvert_exporter": "python",
   "pygments_lexer": "ipython3",
   "version": "3.12.5"
  }
 },
 "nbformat": 4,
 "nbformat_minor": 2
}
